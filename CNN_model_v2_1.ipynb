{
 "cells": [
  {
   "cell_type": "markdown",
   "metadata": {
    "id": "C_DPTxoJF_lV",
    "tags": []
   },
   "source": [
    "## Preparation"
   ]
  },
  {
   "cell_type": "code",
   "execution_count": 18,
   "metadata": {
    "colab": {
     "base_uri": "https://localhost:8080/"
    },
    "id": "yYUJZtAE7pmq",
    "outputId": "4185b782-734f-4383-a31a-e24ff61bb199"
   },
   "outputs": [
    {
     "name": "stdout",
     "output_type": "stream",
     "text": [
      "Requirement already satisfied: opendatasets in /Users/jpolina/anaconda3/envs/tf/lib/python3.11/site-packages (0.1.22)\n",
      "Requirement already satisfied: tqdm in /Users/jpolina/anaconda3/envs/tf/lib/python3.11/site-packages (from opendatasets) (4.65.0)\n",
      "Requirement already satisfied: kaggle in /Users/jpolina/anaconda3/envs/tf/lib/python3.11/site-packages (from opendatasets) (1.5.13)\n",
      "Requirement already satisfied: click in /Users/jpolina/anaconda3/envs/tf/lib/python3.11/site-packages (from opendatasets) (8.0.4)\n",
      "Requirement already satisfied: six>=1.10 in /Users/jpolina/anaconda3/envs/tf/lib/python3.11/site-packages (from kaggle->opendatasets) (1.16.0)\n",
      "Requirement already satisfied: certifi in /Users/jpolina/anaconda3/envs/tf/lib/python3.11/site-packages (from kaggle->opendatasets) (2023.5.7)\n",
      "Requirement already satisfied: python-dateutil in /Users/jpolina/anaconda3/envs/tf/lib/python3.11/site-packages (from kaggle->opendatasets) (2.8.2)\n",
      "Requirement already satisfied: requests in /Users/jpolina/anaconda3/envs/tf/lib/python3.11/site-packages (from kaggle->opendatasets) (2.29.0)\n",
      "Requirement already satisfied: python-slugify in /Users/jpolina/anaconda3/envs/tf/lib/python3.11/site-packages (from kaggle->opendatasets) (8.0.1)\n",
      "Requirement already satisfied: urllib3 in /Users/jpolina/anaconda3/envs/tf/lib/python3.11/site-packages (from kaggle->opendatasets) (1.26.16)\n",
      "Requirement already satisfied: text-unidecode>=1.3 in /Users/jpolina/anaconda3/envs/tf/lib/python3.11/site-packages (from python-slugify->kaggle->opendatasets) (1.3)\n",
      "Requirement already satisfied: charset-normalizer<4,>=2 in /Users/jpolina/anaconda3/envs/tf/lib/python3.11/site-packages (from requests->kaggle->opendatasets) (2.0.4)\n",
      "Requirement already satisfied: idna<4,>=2.5 in /Users/jpolina/anaconda3/envs/tf/lib/python3.11/site-packages (from requests->kaggle->opendatasets) (3.4)\n",
      "Requirement already satisfied: pandas in /Users/jpolina/anaconda3/envs/tf/lib/python3.11/site-packages (2.0.2)\n",
      "Requirement already satisfied: python-dateutil>=2.8.2 in /Users/jpolina/anaconda3/envs/tf/lib/python3.11/site-packages (from pandas) (2.8.2)\n",
      "Requirement already satisfied: pytz>=2020.1 in /Users/jpolina/anaconda3/envs/tf/lib/python3.11/site-packages (from pandas) (2022.7)\n",
      "Requirement already satisfied: tzdata>=2022.1 in /Users/jpolina/anaconda3/envs/tf/lib/python3.11/site-packages (from pandas) (2023.3)\n",
      "Requirement already satisfied: numpy>=1.21.0 in /Users/jpolina/anaconda3/envs/tf/lib/python3.11/site-packages (from pandas) (1.23.5)\n",
      "Requirement already satisfied: six>=1.5 in /Users/jpolina/anaconda3/envs/tf/lib/python3.11/site-packages (from python-dateutil>=2.8.2->pandas) (1.16.0)\n",
      "Requirement already satisfied: kaggle in /Users/jpolina/anaconda3/envs/tf/lib/python3.11/site-packages (1.5.13)\n",
      "Requirement already satisfied: six>=1.10 in /Users/jpolina/anaconda3/envs/tf/lib/python3.11/site-packages (from kaggle) (1.16.0)\n",
      "Requirement already satisfied: certifi in /Users/jpolina/anaconda3/envs/tf/lib/python3.11/site-packages (from kaggle) (2023.5.7)\n",
      "Requirement already satisfied: python-dateutil in /Users/jpolina/anaconda3/envs/tf/lib/python3.11/site-packages (from kaggle) (2.8.2)\n",
      "Requirement already satisfied: requests in /Users/jpolina/anaconda3/envs/tf/lib/python3.11/site-packages (from kaggle) (2.29.0)\n",
      "Requirement already satisfied: tqdm in /Users/jpolina/anaconda3/envs/tf/lib/python3.11/site-packages (from kaggle) (4.65.0)\n",
      "Requirement already satisfied: python-slugify in /Users/jpolina/anaconda3/envs/tf/lib/python3.11/site-packages (from kaggle) (8.0.1)\n",
      "Requirement already satisfied: urllib3 in /Users/jpolina/anaconda3/envs/tf/lib/python3.11/site-packages (from kaggle) (1.26.16)\n",
      "Requirement already satisfied: text-unidecode>=1.3 in /Users/jpolina/anaconda3/envs/tf/lib/python3.11/site-packages (from python-slugify->kaggle) (1.3)\n",
      "Requirement already satisfied: charset-normalizer<4,>=2 in /Users/jpolina/anaconda3/envs/tf/lib/python3.11/site-packages (from requests->kaggle) (2.0.4)\n",
      "Requirement already satisfied: idna<4,>=2.5 in /Users/jpolina/anaconda3/envs/tf/lib/python3.11/site-packages (from requests->kaggle) (3.4)\n",
      "Requirement already satisfied: unrar in /Users/jpolina/anaconda3/envs/tf/lib/python3.11/site-packages (0.4)\n",
      "Requirement already satisfied: patool in /Users/jpolina/anaconda3/envs/tf/lib/python3.11/site-packages (1.12)\n"
     ]
    }
   ],
   "source": [
    "# Import dependencies\n",
    "\n",
    "!pip install opendatasets\n",
    "!pip install pandas\n",
    "!pip install kaggle\n",
    "!pip install unrar\n",
    "!pip install patool\n",
    "import tensorflow as tf\n",
    "import opendatasets as od\n",
    "import pandas as pd\n",
    "import numpy as np\n",
    "import cv2 as cv\n",
    "from tensorflow.keras import datasets, layers, models, optimizers\n",
    "import matplotlib.pyplot as plt\n",
    "import matplotlib.image as img\n",
    "import os\n",
    "import patoolib\n",
    "from PIL import Image"
   ]
  },
  {
   "cell_type": "code",
   "execution_count": 10,
   "metadata": {
    "colab": {
     "base_uri": "https://localhost:8080/"
    },
    "id": "VNiR2G-qHxg6",
    "outputId": "7815910e-7855-41bd-d74a-0b2617bacf4e"
   },
   "outputs": [
    {
     "name": "stdout",
     "output_type": "stream",
     "text": [
      "Drive already mounted at /content/drive/; to attempt to forcibly remount, call drive.mount(\"/content/drive/\", force_remount=True).\n"
     ]
    }
   ],
   "source": [
    "# Mount Google Drive\n",
    "from google.colab import drive\n",
    "drive.mount('/content/drive/')"
   ]
  },
  {
   "cell_type": "code",
   "execution_count": 12,
   "metadata": {
    "id": "M6fc2yMrHduU"
   },
   "outputs": [],
   "source": [
    "# Initialize paths\n",
    "data_dir = os.path.join(os.curdir, 'handwrittenmathsymbols', 'extracted_images-1')\n",
    "model_dir = os.path.join(os.curdir, 'models')\n",
    "\n",
    "custom_model_path = os.path.join(model_dir, 'custom_model.h5')\n",
    "resnet_model_path = os.path.join(model_dir, 'resnet_model.h5')\n",
    "vgg19_model_path = os.path.join(model_dir, 'vgg19_model.h5')\n",
    "mobilenet_model_path = os.path.join(model_dir, 'mobilenet_model.h5')\n",
    "ensemble_model_path = os.path.join(model_dir, 'ensemble_model.h5')"
   ]
  },
  {
   "cell_type": "code",
   "execution_count": 13,
   "metadata": {
    "id": "wVLLtrVzO_UT"
   },
   "outputs": [],
   "source": [
    "# Initialize important variables\n",
    "classes = 82\n",
    "input_shape=(45,45,3)\n",
    "batch_size = 8\n",
    "image_size = (45, 45)"
   ]
  },
  {
   "cell_type": "markdown",
   "metadata": {
    "id": "zCZd0qfPMcHW",
    "jp-MarkdownHeadingCollapsed": true,
    "tags": []
   },
   "source": [
    "## Download and unpack dataset from Kaggle"
   ]
  },
  {
   "cell_type": "code",
   "execution_count": 5,
   "metadata": {
    "colab": {
     "base_uri": "https://localhost:8080/"
    },
    "id": "-O-gXMguPgY4",
    "outputId": "55e0d592-92b2-4171-de24-ef93770785a4"
   },
   "outputs": [
    {
     "name": "stdout",
     "output_type": "stream",
     "text": [
      "Please provide your Kaggle credentials to download this dataset. Learn more: http://bit.ly/kaggle-creds\n",
      "Your Kaggle username:"
     ]
    },
    {
     "name": "stdin",
     "output_type": "stream",
     "text": [
      "  jonathanpolina\n"
     ]
    },
    {
     "name": "stdout",
     "output_type": "stream",
     "text": [
      "Your Kaggle Key:"
     ]
    },
    {
     "name": "stdin",
     "output_type": "stream",
     "text": [
      "  ································\n"
     ]
    },
    {
     "name": "stdout",
     "output_type": "stream",
     "text": [
      "Downloading handwrittenmathsymbols.zip to ./handwrittenmathsymbols\n"
     ]
    },
    {
     "name": "stderr",
     "output_type": "stream",
     "text": [
      "100%|██████████| 343M/343M [00:08<00:00, 40.0MB/s] \n"
     ]
    },
    {
     "name": "stdout",
     "output_type": "stream",
     "text": [
      "\n"
     ]
    }
   ],
   "source": [
    "# Download the dataset from kaggle\n",
    "od.download('https://www.kaggle.com/datasets/xainano/handwrittenmathsymbols', force=True)"
   ]
  },
  {
   "cell_type": "code",
   "execution_count": 11,
   "metadata": {
    "colab": {
     "base_uri": "https://localhost:8080/",
     "height": 107
    },
    "id": "YOANaXd38oyz",
    "outputId": "93b4a2f5-5866-4108-deec-7790a1489291"
   },
   "outputs": [
    {
     "name": "stdout",
     "output_type": "stream",
     "text": [
      "patool: Extracting ./handwrittenmathsymbols/data.rar ...\n"
     ]
    },
    {
     "ename": "PatoolError",
     "evalue": "could not find an executable program to extract format rar; candidates are (rar,unrar,7z),",
     "output_type": "error",
     "traceback": [
      "\u001b[0;31m---------------------------------------------------------------------------\u001b[0m",
      "\u001b[0;31mPatoolError\u001b[0m                               Traceback (most recent call last)",
      "Cell \u001b[0;32mIn[11], line 4\u001b[0m\n\u001b[1;32m      2\u001b[0m rar_path \u001b[38;5;241m=\u001b[39m os\u001b[38;5;241m.\u001b[39mpath\u001b[38;5;241m.\u001b[39mjoin(os\u001b[38;5;241m.\u001b[39mcurdir, \u001b[38;5;124m'\u001b[39m\u001b[38;5;124mhandwrittenmathsymbols\u001b[39m\u001b[38;5;124m'\u001b[39m, \u001b[38;5;124m'\u001b[39m\u001b[38;5;124mdata.rar\u001b[39m\u001b[38;5;124m'\u001b[39m)\n\u001b[1;32m      3\u001b[0m out_path \u001b[38;5;241m=\u001b[39m os\u001b[38;5;241m.\u001b[39mpath\u001b[38;5;241m.\u001b[39mjoin(os\u001b[38;5;241m.\u001b[39mcurdir, \u001b[38;5;124m'\u001b[39m\u001b[38;5;124mhandwrittenmathsymbols\u001b[39m\u001b[38;5;124m'\u001b[39m)\n\u001b[0;32m----> 4\u001b[0m patoolib\u001b[38;5;241m.\u001b[39mextract_archive(rar_path)\n",
      "File \u001b[0;32m~/anaconda3/envs/tf/lib/python3.11/site-packages/patoolib/__init__.py:684\u001b[0m, in \u001b[0;36mextract_archive\u001b[0;34m(archive, verbosity, outdir, program, interactive)\u001b[0m\n\u001b[1;32m    682\u001b[0m \u001b[38;5;28;01mif\u001b[39;00m verbosity \u001b[38;5;241m>\u001b[39m\u001b[38;5;241m=\u001b[39m \u001b[38;5;241m0\u001b[39m:\n\u001b[1;32m    683\u001b[0m     util\u001b[38;5;241m.\u001b[39mlog_info(\u001b[38;5;124m\"\u001b[39m\u001b[38;5;124mExtracting \u001b[39m\u001b[38;5;132;01m%s\u001b[39;00m\u001b[38;5;124m ...\u001b[39m\u001b[38;5;124m\"\u001b[39m \u001b[38;5;241m%\u001b[39m archive)\n\u001b[0;32m--> 684\u001b[0m \u001b[38;5;28;01mreturn\u001b[39;00m _extract_archive(archive, verbosity\u001b[38;5;241m=\u001b[39mverbosity, interactive\u001b[38;5;241m=\u001b[39minteractive, outdir\u001b[38;5;241m=\u001b[39moutdir, program\u001b[38;5;241m=\u001b[39mprogram)\n",
      "File \u001b[0;32m~/anaconda3/envs/tf/lib/python3.11/site-packages/patoolib/__init__.py:470\u001b[0m, in \u001b[0;36m_extract_archive\u001b[0;34m(archive, verbosity, interactive, outdir, program, format, compression)\u001b[0m\n\u001b[1;32m    468\u001b[0m     \u001b[38;5;28mformat\u001b[39m, compression \u001b[38;5;241m=\u001b[39m get_archive_format(archive)\n\u001b[1;32m    469\u001b[0m check_archive_format(\u001b[38;5;28mformat\u001b[39m, compression)\n\u001b[0;32m--> 470\u001b[0m program \u001b[38;5;241m=\u001b[39m find_archive_program(\u001b[38;5;28mformat\u001b[39m, \u001b[38;5;124m'\u001b[39m\u001b[38;5;124mextract\u001b[39m\u001b[38;5;124m'\u001b[39m, program\u001b[38;5;241m=\u001b[39mprogram)\n\u001b[1;32m    471\u001b[0m check_program_compression(archive, \u001b[38;5;124m'\u001b[39m\u001b[38;5;124mextract\u001b[39m\u001b[38;5;124m'\u001b[39m, program, compression)\n\u001b[1;32m    472\u001b[0m get_archive_cmdlist \u001b[38;5;241m=\u001b[39m get_archive_cmdlist_func(program, \u001b[38;5;124m'\u001b[39m\u001b[38;5;124mextract\u001b[39m\u001b[38;5;124m'\u001b[39m, \u001b[38;5;28mformat\u001b[39m)\n",
      "File \u001b[0;32m~/anaconda3/envs/tf/lib/python3.11/site-packages/patoolib/__init__.py:336\u001b[0m, in \u001b[0;36mfind_archive_program\u001b[0;34m(format, command, program)\u001b[0m\n\u001b[1;32m    334\u001b[0m         \u001b[38;5;28;01mreturn\u001b[39;00m exe\n\u001b[1;32m    335\u001b[0m \u001b[38;5;66;03m# no programs found\u001b[39;00m\n\u001b[0;32m--> 336\u001b[0m \u001b[38;5;28;01mraise\u001b[39;00m util\u001b[38;5;241m.\u001b[39mPatoolError(\u001b[38;5;124m\"\u001b[39m\u001b[38;5;124mcould not find an executable program to \u001b[39m\u001b[38;5;132;01m%s\u001b[39;00m\u001b[38;5;124m format \u001b[39m\u001b[38;5;132;01m%s\u001b[39;00m\u001b[38;5;124m; candidates are (\u001b[39m\u001b[38;5;132;01m%s\u001b[39;00m\u001b[38;5;124m),\u001b[39m\u001b[38;5;124m\"\u001b[39m \u001b[38;5;241m%\u001b[39m (command, \u001b[38;5;28mformat\u001b[39m, \u001b[38;5;124m\"\u001b[39m\u001b[38;5;124m,\u001b[39m\u001b[38;5;124m\"\u001b[39m\u001b[38;5;241m.\u001b[39mjoin(programs)))\n",
      "\u001b[0;31mPatoolError\u001b[0m: could not find an executable program to extract format rar; candidates are (rar,unrar,7z),"
     ]
    }
   ],
   "source": [
    "# Unrar the data.rar file we got from Kaggle which contains the data\n",
    "rar_path = os.path.join(os.curdir, 'handwrittenmathsymbols', 'data.rar')\n",
    "out_path = os.path.join(os.curdir, 'handwrittenmathsymbols')\n",
    "patoolib.extract_archive(rar_path)"
   ]
  },
  {
   "cell_type": "markdown",
   "metadata": {
    "id": "aWp7X9UPJgHW",
    "jp-MarkdownHeadingCollapsed": true,
    "tags": []
   },
   "source": [
    "## Preprocess the colors\n"
   ]
  },
  {
   "cell_type": "code",
   "execution_count": 19,
   "metadata": {
    "colab": {
     "base_uri": "https://localhost:8080/",
     "height": 574
    },
    "id": "yLPtqNmMHSAb",
    "outputId": "57e69765-a479-4960-a1b8-3be39f11906c"
   },
   "outputs": [
    {
     "name": "stdout",
     "output_type": "stream",
     "text": [
      "array([[255, 255, 255, ..., 255, 255, 255],\n",
      "       [255, 255, 255, ..., 255, 255, 255],\n",
      "       [255, 255, 255, ..., 255, 255, 255],\n",
      "       ...,\n",
      "       [255, 255, 255, ..., 255, 255, 255],\n",
      "       [255, 255, 255, ..., 255, 255, 255],\n",
      "       [255, 255, 255, ..., 255, 255, 255]], dtype=uint8)\n",
      "(45, 45)\n"
     ]
    },
    {
     "data": {
      "image/png": "[encoded data removed]",
      "text/plain": [
       "<Figure size 640x480 with 1 Axes>"
      ]
     },
     "metadata": {},
     "output_type": "display_data"
    }
   ],
   "source": [
    "# Let's see what an individual image in the dataset looks like.\n",
    "sample_img_path = os.path.join(data_dir, '!', '!_100071.jpg')\n",
    "img = np.asarray(Image.open(sample_img_path))\n",
    "imgplot = plt.imshow(img)\n",
    "print(repr(img))\n",
    "print(img.shape)"
   ]
  },
  {
   "cell_type": "code",
   "execution_count": 2,
   "metadata": {
    "id": "yAhuR1IfN3Vu"
   },
   "outputs": [],
   "source": [
    "# Since the images are already gray scale, we don't need to make any changes."
   ]
  },
  {
   "cell_type": "markdown",
   "metadata": {
    "id": "y4yTIBDOJvMk",
    "tags": []
   },
   "source": [
    "## Preprocess data set"
   ]
  },
  {
   "cell_type": "code",
   "execution_count": 24,
   "metadata": {
    "colab": {
     "base_uri": "https://localhost:8080/"
    },
    "id": "fJbNBW8LFXA3",
    "outputId": "9fe92034-b202-4e96-d2fa-1c46210ff831"
   },
   "outputs": [
    {
     "name": "stdout",
     "output_type": "stream",
     "text": [
      "Found 375974 files belonging to 82 classes.\n"
     ]
    }
   ],
   "source": [
    "data_set = tf.keras.utils.image_dataset_from_directory(data_dir, batch_size = batch_size, image_size = image_size)"
   ]
  },
  {
   "cell_type": "code",
   "execution_count": 20,
   "metadata": {
    "colab": {
     "base_uri": "https://localhost:8080/"
    },
    "id": "F12eza_fcJa7",
    "outputId": "5bbe6340-ba0f-4c1d-a3a0-c465a6e86c7f"
   },
   "outputs": [
    {
     "ename": "AttributeError",
     "evalue": "'numpy.ndarray' object has no attribute 'imread'",
     "output_type": "error",
     "traceback": [
      "\u001b[0;31m---------------------------------------------------------------------------\u001b[0m",
      "\u001b[0;31mAttributeError\u001b[0m                            Traceback (most recent call last)",
      "Cell \u001b[0;32mIn[20], line 2\u001b[0m\n\u001b[1;32m      1\u001b[0m \u001b[38;5;66;03m# We can check if the images need to be normalized by looking at any image.\u001b[39;00m\n\u001b[0;32m----> 2\u001b[0m img\u001b[38;5;241m.\u001b[39mimread(sample_img_path)\n",
      "\u001b[0;31mAttributeError\u001b[0m: 'numpy.ndarray' object has no attribute 'imread'"
     ]
    }
   ],
   "source": [
    "# We can check if the images need to be normalized by looking at any image.\n",
    "img.imread(sample_img_path)"
   ]
  },
  {
   "cell_type": "code",
   "execution_count": 25,
   "metadata": {
    "id": "pkqzgjG7IEGP"
   },
   "outputs": [],
   "source": [
    "# Normalize images\n",
    "data_set = data_set.map(lambda x,y: (x/255, y))"
   ]
  },
  {
   "cell_type": "code",
   "execution_count": 26,
   "metadata": {
    "id": "WOVFdFmSMmoC"
   },
   "outputs": [],
   "source": [
    "# Allocate training, validation, and test sizes\n",
    "train_size = int(len(data_set)* .7)\n",
    "val_size = int(len(data_set)*.2)+1\n",
    "test_size = int(len(data_set)*.1)+1"
   ]
  },
  {
   "cell_type": "code",
   "execution_count": 27,
   "metadata": {
    "id": "mbfMgfxcM3JB"
   },
   "outputs": [],
   "source": [
    "# Split up dataset into train, validation and test\n",
    "train = data_set.take(train_size)\n",
    "val = data_set.skip(train_size).take(val_size)\n",
    "test = data_set.skip(train_size + val_size).take(test_size)"
   ]
  },
  {
   "cell_type": "markdown",
   "metadata": {
    "id": "8uAWBF3bxBTi",
    "tags": []
   },
   "source": [
    "## Create Custom Model using Tensorflow"
   ]
  },
  {
   "cell_type": "code",
   "execution_count": 16,
   "metadata": {
    "colab": {
     "base_uri": "https://localhost:8080/"
    },
    "id": "gkc5ozRCxMmh",
    "outputId": "70733c55-b184-4917-e445-e77a8892a0c6"
   },
   "outputs": [
    {
     "name": "stdout",
     "output_type": "stream",
     "text": [
      "Model: \"Custom_Model\"\n",
      "_________________________________________________________________\n",
      " Layer (type)                Output Shape              Param #   \n",
      "=================================================================\n",
      " conv2d (Conv2D)             (None, 43, 43, 32)        896       \n",
      "                                                                 \n",
      " max_pooling2d (MaxPooling2D  (None, 21, 21, 32)       0         \n",
      " )                                                               \n",
      "                                                                 \n",
      " conv2d_1 (Conv2D)           (None, 19, 19, 64)        18496     \n",
      "                                                                 \n",
      " max_pooling2d_1 (MaxPooling  (None, 9, 9, 64)         0         \n",
      " 2D)                                                             \n",
      "                                                                 \n",
      " conv2d_2 (Conv2D)           (None, 7, 7, 64)          36928     \n",
      "                                                                 \n",
      " flatten (Flatten)           (None, 3136)              0         \n",
      "                                                                 \n",
      " dense (Dense)               (None, 64)                200768    \n",
      "                                                                 \n",
      " dense_1 (Dense)             (None, 82)                5330      \n",
      "                                                                 \n",
      "=================================================================\n",
      "Total params: 262,418\n",
      "Trainable params: 262,418\n",
      "Non-trainable params: 0\n",
      "_________________________________________________________________\n",
      "Epoch 1/10\n"
     ]
    },
    {
     "name": "stderr",
     "output_type": "stream",
     "text": [
      "/usr/local/lib/python3.10/dist-packages/keras/backend.py:5612: UserWarning: \"`sparse_categorical_crossentropy` received `from_logits=True`, but the `output` argument was produced by a Softmax activation and thus does not represent logits. Was this intended?\n",
      "  output, from_logits = _get_logits(\n"
     ]
    },
    {
     "name": "stdout",
     "output_type": "stream",
     "text": [
      "32897/32897 [==============================] - 788s 24ms/step - loss: 0.4714 - accuracy: 0.8694 - val_loss: 0.2736 - val_accuracy: 0.9196\n",
      "Epoch 2/10\n",
      "32897/32897 [==============================] - 814s 25ms/step - loss: 0.2412 - accuracy: 0.9263 - val_loss: 0.2388 - val_accuracy: 0.9295\n",
      "Epoch 3/10\n",
      "32897/32897 [==============================] - 757s 23ms/step - loss: 0.1924 - accuracy: 0.9406 - val_loss: 0.2032 - val_accuracy: 0.9409\n",
      "Epoch 4/10\n",
      "32897/32897 [==============================] - 769s 23ms/step - loss: 0.1652 - accuracy: 0.9479 - val_loss: 0.1860 - val_accuracy: 0.9474\n",
      "Epoch 5/10\n",
      "32897/32897 [==============================] - 755s 23ms/step - loss: 0.1470 - accuracy: 0.9540 - val_loss: 0.1826 - val_accuracy: 0.9489\n",
      "Epoch 6/10\n",
      "32897/32897 [==============================] - 755s 23ms/step - loss: 0.1360 - accuracy: 0.9570 - val_loss: 0.1892 - val_accuracy: 0.9511\n",
      "Epoch 7/10\n",
      "32897/32897 [==============================] - 757s 23ms/step - loss: 0.1319 - accuracy: 0.9592 - val_loss: 0.1797 - val_accuracy: 0.9531\n",
      "Epoch 8/10\n",
      "32897/32897 [==============================] - 750s 23ms/step - loss: 0.1267 - accuracy: 0.9609 - val_loss: 0.1601 - val_accuracy: 0.9581\n",
      "Epoch 9/10\n",
      "32897/32897 [==============================] - 750s 23ms/step - loss: 0.1228 - accuracy: 0.9628 - val_loss: 0.1644 - val_accuracy: 0.9584\n",
      "Epoch 10/10\n",
      "32897/32897 [==============================] - 746s 23ms/step - loss: 0.1198 - accuracy: 0.9645 - val_loss: 0.1581 - val_accuracy: 0.9597\n"
     ]
    }
   ],
   "source": [
    "custom_model = models.Sequential(name='Custom_Model')\n",
    "\n",
    "# Convolutional base\n",
    "custom_model.add(layers.Conv2D(32, (3, 3), activation='relu', input_shape=input_shape))\n",
    "custom_model.add(layers.MaxPooling2D((2, 2)))\n",
    "custom_model.add(layers.Conv2D(64, (3, 3), activation='relu'))\n",
    "custom_model.add(layers.MaxPooling2D((2, 2)))\n",
    "custom_model.add(layers.Conv2D(64, (3, 3), activation='relu'))\n",
    "\n",
    "# Dense layers\n",
    "custom_model.add(layers.Flatten())\n",
    "custom_model.add(layers.Dense(64, activation='relu'))\n",
    "custom_model.add(layers.Dense(classes, activation='softmax'))\n",
    "custom_model.summary()\n",
    "\n",
    "# The summary shows that the convolutional base has a (4, 4, 64) output, which\n",
    "#   is flattened into a (1024) shaped vector, and then sent through two Dense\n",
    "#   layers\n",
    "\n",
    "custom_model.compile(optimizer='adam',\n",
    "              loss=tf.keras.losses.SparseCategoricalCrossentropy(from_logits=True),\n",
    "              metrics=['accuracy'])\n",
    "\n",
    "custom_model_history = custom_model.fit(train, epochs=10,\n",
    "                         validation_data=val)\n",
    "\n",
    "custom_model.save(custom_model_path)"
   ]
  },
  {
   "cell_type": "code",
   "execution_count": 17,
   "metadata": {
    "colab": {
     "base_uri": "https://localhost:8080/",
     "height": 473
    },
    "id": "ci4F0BLbA62T",
    "outputId": "71381386-fe9e-47e5-ff6e-3138473b1b31"
   },
   "outputs": [
    {
     "name": "stdout",
     "output_type": "stream",
     "text": [
      "4700/4700 - 63s - loss: 0.1553 - accuracy: 0.9588 - 63s/epoch - 13ms/step\n"
     ]
    },
    {
     "data": {
      "image/png": "[encoded data removed]",
      "text/plain": [
       "<Figure size 640x480 with 1 Axes>"
      ]
     },
     "metadata": {},
     "output_type": "display_data"
    }
   ],
   "source": [
    "plt.plot(custom_model_history.history['accuracy'], label='accuracy')\n",
    "plt.plot(custom_model_history.history['val_accuracy'], label = 'val_accuracy')\n",
    "plt.xlabel('Epoch')\n",
    "plt.ylabel('Accuracy')\n",
    "plt.ylim([0.5, 1])\n",
    "plt.legend(loc='lower right')\n",
    "\n",
    "test_loss, test_acc = custom_model.evaluate(test, verbose=2)"
   ]
  },
  {
   "cell_type": "markdown",
   "metadata": {
    "id": "6jLHDig8hGrS",
    "tags": []
   },
   "source": [
    "## Create Model using Resnet-50"
   ]
  },
  {
   "cell_type": "code",
   "execution_count": 20,
   "metadata": {
    "colab": {
     "base_uri": "https://localhost:8080/"
    },
    "id": "nVZLejYThHdq",
    "outputId": "1269cf5e-6f9c-4fe4-f490-e4a8b3ef90b1"
   },
   "outputs": [
    {
     "name": "stdout",
     "output_type": "stream",
     "text": [
      "Downloading data from https://storage.googleapis.com/tensorflow/keras-applications/resnet/resnet50_weights_tf_dim_ordering_tf_kernels_notop.h5\n",
      "94765736/94765736 [==============================] - 1s 0us/step\n"
     ]
    }
   ],
   "source": [
    "resnet_model = models.Sequential(name='Resnet_Model')\n",
    "\n",
    "resnet_pretrained_model= tf.keras.applications.ResNet50(include_top=False,\n",
    "\n",
    "                   input_shape=input_shape,\n",
    "\n",
    "                   pooling='max',classes=classes,\n",
    "\n",
    "                   weights='imagenet')\n",
    "\n",
    "for each_layer in resnet_pretrained_model.layers:\n",
    "\n",
    "        each_layer.trainable=False\n",
    "\n",
    "resnet_model.add(resnet_pretrained_model)"
   ]
  },
  {
   "cell_type": "code",
   "execution_count": 21,
   "metadata": {
    "id": "oXyHjfHxiWmS"
   },
   "outputs": [],
   "source": [
    "resnet_model.add(layers.Flatten())\n",
    "\n",
    "resnet_model.add(layers.Dense(512, activation='relu'))\n",
    "resnet_model.add(layers.Dense(classes, activation='softmax'))"
   ]
  },
  {
   "cell_type": "code",
   "execution_count": 22,
   "metadata": {
    "colab": {
     "base_uri": "https://localhost:8080/"
    },
    "id": "5ocwg282iXPl",
    "outputId": "786cd1bf-722d-4333-9cbf-7d74bbdb4c30"
   },
   "outputs": [
    {
     "name": "stdout",
     "output_type": "stream",
     "text": [
      "Epoch 1/10\n",
      "32897/32897 [==============================] - 3113s 95ms/step - loss: 0.8000 - accuracy: 0.7760 - val_loss: 0.5947 - val_accuracy: 0.8308\n",
      "Epoch 2/10\n",
      "32897/32897 [==============================] - 3043s 92ms/step - loss: 0.5746 - accuracy: 0.8346 - val_loss: 0.5922 - val_accuracy: 0.8268\n",
      "Epoch 3/10\n",
      "32897/32897 [==============================] - 3101s 94ms/step - loss: 0.5251 - accuracy: 0.8482 - val_loss: 0.5118 - val_accuracy: 0.8543\n",
      "Epoch 4/10\n",
      "32897/32897 [==============================] - 3071s 93ms/step - loss: 0.4953 - accuracy: 0.8572 - val_loss: 0.4424 - val_accuracy: 0.8713\n",
      "Epoch 5/10\n",
      "32897/32897 [==============================] - 3098s 94ms/step - loss: 0.4773 - accuracy: 0.8621 - val_loss: 0.4651 - val_accuracy: 0.8675\n",
      "Epoch 6/10\n",
      "32897/32897 [==============================] - 3105s 94ms/step - loss: 0.4644 - accuracy: 0.8664 - val_loss: 0.5090 - val_accuracy: 0.8536\n",
      "Epoch 7/10\n",
      "32897/32897 [==============================] - 3113s 95ms/step - loss: 0.4541 - accuracy: 0.8692 - val_loss: 0.5037 - val_accuracy: 0.8629\n",
      "Epoch 8/10\n",
      "32897/32897 [==============================] - 3070s 93ms/step - loss: 0.4449 - accuracy: 0.8720 - val_loss: 0.4998 - val_accuracy: 0.8622\n",
      "Epoch 9/10\n",
      "32897/32897 [==============================] - 3106s 94ms/step - loss: 0.4355 - accuracy: 0.8750 - val_loss: 0.4972 - val_accuracy: 0.8621\n",
      "Epoch 10/10\n",
      "32897/32897 [==============================] - 3118s 95ms/step - loss: 0.4310 - accuracy: 0.8763 - val_loss: 0.4984 - val_accuracy: 0.8670\n"
     ]
    }
   ],
   "source": [
    "resnet_model.compile(optimizer = optimizers.Adam(learning_rate=0.001),loss=tf.keras.losses.SparseCategoricalCrossentropy(from_logits=True),metrics=['accuracy'])\n",
    "\n",
    "epochs = 10\n",
    "history = resnet_model.fit(train, validation_data=val, epochs=epochs)\n",
    "resnet_model.save(resnet_model_path)"
   ]
  },
  {
   "cell_type": "code",
   "execution_count": 23,
   "metadata": {
    "colab": {
     "base_uri": "https://localhost:8080/",
     "height": 736
    },
    "id": "meRo2PWxiY_u",
    "outputId": "30a5488b-4bf7-4e2a-a4cd-5538ca9d0036"
   },
   "outputs": [
    {
     "data": {
      "text/plain": [
       "<matplotlib.legend.Legend at 0x7f790323acb0>"
      ]
     },
     "execution_count": 23,
     "metadata": {},
     "output_type": "execute_result"
    },
    {
     "data": {
      "image/png": "[encoded data removed]",
      "text/plain": [
       "<Figure size 800x800 with 1 Axes>"
      ]
     },
     "metadata": {},
     "output_type": "display_data"
    }
   ],
   "source": [
    "plt.figure(figsize=(8, 8))\n",
    "\n",
    "epochs_range= range(epochs)\n",
    "\n",
    "plt.plot( epochs_range, history.history['accuracy'], label=\"Training Accuracy\")\n",
    "\n",
    "plt.plot(epochs_range, history.history['val_accuracy'], label=\"Validation Accuracy\")\n",
    "\n",
    "plt.axis(ymin=0.4,ymax=1)\n",
    "\n",
    "plt.grid()\n",
    "\n",
    "plt.title('Model Accuracy')\n",
    "\n",
    "plt.ylabel('Accuracy')\n",
    "\n",
    "plt.xlabel('Epochs')\n",
    "\n",
    "plt.legend(['train', 'validation'])"
   ]
  },
  {
   "cell_type": "code",
   "execution_count": 24,
   "metadata": {
    "colab": {
     "base_uri": "https://localhost:8080/",
     "height": 35
    },
    "id": "SiBOhhbziax_",
    "outputId": "61328437-5bf2-494b-8e90-a71365ecae74"
   },
   "outputs": [
    {
     "data": {
      "text/plain": [
       "<Figure size 640x480 with 0 Axes>"
      ]
     },
     "metadata": {},
     "output_type": "display_data"
    }
   ],
   "source": [
    "#plotter_lib.show()\n",
    "\n",
    "plt.savefig('output-plot.png')"
   ]
  },
  {
   "cell_type": "markdown",
   "metadata": {
    "id": "05exxZ78FTOH",
    "tags": []
   },
   "source": [
    "## Create Model using VGG19"
   ]
  },
  {
   "cell_type": "code",
   "execution_count": 28,
   "metadata": {
    "id": "YoNT2YT6FX8n"
   },
   "outputs": [],
   "source": [
    "from tensorflow.keras.applications import VGG19"
   ]
  },
  {
   "cell_type": "code",
   "execution_count": 29,
   "metadata": {
    "id": "tEPnt0EwFdji"
   },
   "outputs": [],
   "source": [
    "vgg19_model = models.Sequential(name='VGG19_Model')\n",
    "\n",
    "vgg19_pretrained_model= tf.keras.applications.VGG19(include_top=False,\n",
    "\n",
    "                   input_shape=input_shape,\n",
    "\n",
    "                   pooling='max',classes=classes,\n",
    "\n",
    "                   weights='imagenet')\n",
    "\n",
    "for each_layer in vgg19_pretrained_model.layers:\n",
    "        each_layer.trainable=False\n",
    "\n",
    "vgg19_model.add(vgg19_pretrained_model)"
   ]
  },
  {
   "cell_type": "code",
   "execution_count": 30,
   "metadata": {
    "id": "Amd07fJYKPv2"
   },
   "outputs": [],
   "source": [
    "vgg19_model.add(layers.Flatten())\n",
    "\n",
    "vgg19_model.add(layers.Dense(512, activation='relu'))\n",
    "\n",
    "vgg19_model.add(layers.Dense(classes, activation='softmax'))"
   ]
  },
  {
   "cell_type": "code",
   "execution_count": 31,
   "metadata": {
    "colab": {
     "base_uri": "https://localhost:8080/"
    },
    "id": "sywhMHGQKXf9",
    "outputId": "dbf608b9-77e4-4dbb-8b71-d72d5f94a762"
   },
   "outputs": [
    {
     "name": "stdout",
     "output_type": "stream",
     "text": [
      "Epoch 1/8\n"
     ]
    },
    {
     "name": "stderr",
     "output_type": "stream",
     "text": [
      "2023-06-29 14:34:20.365870: I tensorflow/core/common_runtime/executor.cc:1197] [/device:CPU:0] (DEBUG INFO) Executor start aborting (this does not indicate an error and you can ignore this message): INVALID_ARGUMENT: You must feed a value for placeholder tensor 'Placeholder/_4' with dtype int32 and shape [375974]\n",
      "\t [[{{node Placeholder/_4}}]]\n",
      "2023-06-29 14:34:20.366878: I tensorflow/core/common_runtime/executor.cc:1197] [/device:CPU:0] (DEBUG INFO) Executor start aborting (this does not indicate an error and you can ignore this message): INVALID_ARGUMENT: You must feed a value for placeholder tensor 'Placeholder/_4' with dtype int32 and shape [375974]\n",
      "\t [[{{node Placeholder/_4}}]]\n",
      "/Users/jpolina/anaconda3/envs/tf/lib/python3.11/site-packages/keras/backend.py:5612: UserWarning: \"`sparse_categorical_crossentropy` received `from_logits=True`, but the `output` argument was produced by a Softmax activation and thus does not represent logits. Was this intended?\n",
      "  output, from_logits = _get_logits(\n"
     ]
    },
    {
     "name": "stdout",
     "output_type": "stream",
     "text": [
      "32897/32897 [==============================] - ETA: 0s - loss: 0.6494 - accuracy: 0.8120"
     ]
    },
    {
     "name": "stderr",
     "output_type": "stream",
     "text": [
      "2023-06-29 15:45:01.340777: I tensorflow/core/common_runtime/executor.cc:1197] [/device:CPU:0] (DEBUG INFO) Executor start aborting (this does not indicate an error and you can ignore this message): INVALID_ARGUMENT: You must feed a value for placeholder tensor 'Placeholder/_4' with dtype int32 and shape [375974]\n",
      "\t [[{{node Placeholder/_4}}]]\n",
      "2023-06-29 15:45:01.341502: I tensorflow/core/common_runtime/executor.cc:1197] [/device:CPU:0] (DEBUG INFO) Executor start aborting (this does not indicate an error and you can ignore this message): INVALID_ARGUMENT: You must feed a value for placeholder tensor 'Placeholder/_4' with dtype int32 and shape [375974]\n",
      "\t [[{{node Placeholder/_4}}]]\n"
     ]
    },
    {
     "name": "stdout",
     "output_type": "stream",
     "text": [
      "32897/32897 [==============================] - 5568s 169ms/step - loss: 0.6494 - accuracy: 0.8120 - val_loss: 0.4488 - val_accuracy: 0.8648\n",
      "Epoch 2/8\n",
      "32897/32897 [==============================] - 4738s 144ms/step - loss: 0.4242 - accuracy: 0.8706 - val_loss: 0.3891 - val_accuracy: 0.8834\n",
      "Epoch 3/8\n",
      "32897/32897 [==============================] - 3933s 120ms/step - loss: 0.3648 - accuracy: 0.8875 - val_loss: 0.3729 - val_accuracy: 0.8890\n",
      "Epoch 4/8\n",
      "32897/32897 [==============================] - 3517s 107ms/step - loss: 0.3287 - accuracy: 0.8981 - val_loss: 0.3594 - val_accuracy: 0.8907\n",
      "Epoch 5/8\n",
      "32897/32897 [==============================] - 3396s 103ms/step - loss: 0.3040 - accuracy: 0.9046 - val_loss: 0.3381 - val_accuracy: 0.9001\n",
      "Epoch 6/8\n",
      "32897/32897 [==============================] - 4008s 122ms/step - loss: 0.2840 - accuracy: 0.9110 - val_loss: 0.3171 - val_accuracy: 0.9041\n",
      "Epoch 7/8\n",
      "32897/32897 [==============================] - 3416s 104ms/step - loss: 0.2691 - accuracy: 0.9154 - val_loss: 0.3213 - val_accuracy: 0.9054\n",
      "Epoch 8/8\n",
      "32897/32897 [==============================] - 3865s 117ms/step - loss: 0.2557 - accuracy: 0.9194 - val_loss: 0.3066 - val_accuracy: 0.9081\n"
     ]
    }
   ],
   "source": [
    "vgg19_model.compile(optimizer=optimizers.Adam(learning_rate=0.001),loss=tf.keras.losses.SparseCategoricalCrossentropy(from_logits=True),metrics=['accuracy'])\n",
    "\n",
    "epochs = 8\n",
    "try:\n",
    "  history = vgg19_model.fit(train, validation_data=val, epochs=epochs)\n",
    "except Exception as e: print(e)\n",
    "\n",
    "vgg19_model.save(vgg19_model_path)"
   ]
  },
  {
   "cell_type": "code",
   "execution_count": 32,
   "metadata": {
    "id": "R_yb_-_GUCna"
   },
   "outputs": [
    {
     "data": {
      "text/plain": [
       "<matplotlib.legend.Legend at 0x15dbf5d90>"
      ]
     },
     "execution_count": 32,
     "metadata": {},
     "output_type": "execute_result"
    },
    {
     "data": {
      "image/png": "[encoded data removed]",
      "text/plain": [
       "<Figure size 800x800 with 1 Axes>"
      ]
     },
     "metadata": {},
     "output_type": "display_data"
    }
   ],
   "source": [
    "# Test\n",
    "\n",
    "plt.figure(figsize=(8, 8))\n",
    "\n",
    "epochs_range= range(epochs)\n",
    "\n",
    "plt.plot( epochs_range, history.history['accuracy'], label=\"Training Accuracy\")\n",
    "\n",
    "plt.plot(epochs_range, history.history['val_accuracy'], label=\"Validation Accuracy\")\n",
    "\n",
    "plt.axis(ymin=0.4,ymax=1)\n",
    "\n",
    "plt.grid()\n",
    "\n",
    "plt.title('Model Accuracy')\n",
    "\n",
    "plt.ylabel('Accuracy')\n",
    "\n",
    "plt.xlabel('Epochs')\n",
    "\n",
    "plt.legend(['train', 'validation'])"
   ]
  },
  {
   "cell_type": "markdown",
   "metadata": {
    "id": "v5fjuSxMCglJ",
    "tags": []
   },
   "source": [
    "## Create Model using MobileNet"
   ]
  },
  {
   "cell_type": "code",
   "execution_count": 33,
   "metadata": {
    "id": "yHkMzA0qCyHJ"
   },
   "outputs": [],
   "source": [
    "from tensorflow.keras.applications import MobileNetV2"
   ]
  },
  {
   "cell_type": "code",
   "execution_count": 34,
   "metadata": {
    "colab": {
     "base_uri": "https://localhost:8080/"
    },
    "id": "u4Tc2QXKO_Um",
    "outputId": "573a801a-fe32-40f3-cfcd-1a1ac2e20097",
    "tags": []
   },
   "outputs": [
    {
     "name": "stdout",
     "output_type": "stream",
     "text": [
      "WARNING:tensorflow:`input_shape` is undefined or non-square, or `rows` is not in [96, 128, 160, 192, 224]. Weights for input shape (224, 224) will be loaded as the default.\n"
     ]
    }
   ],
   "source": [
    "mobilenet_model = models.Sequential(name='MobileNet_Model')\n",
    "mobilenet_pretrained_model = tf.keras.applications.MobileNetV2(include_top=False,\n",
    "                   input_shape=input_shape,\n",
    "                   pooling='max',classes=classes,\n",
    "                   weights='imagenet')\n",
    "for each_layer in mobilenet_pretrained_model.layers:\n",
    "        each_layer.trainable=False\n",
    "\n",
    "mobilenet_model.add(mobilenet_pretrained_model)"
   ]
  },
  {
   "cell_type": "code",
   "execution_count": 35,
   "metadata": {
    "id": "1ZSMsRNZO_Un"
   },
   "outputs": [],
   "source": [
    "mobilenet_model.add(layers.Flatten())\n",
    "\n",
    "mobilenet_model.add(layers.Dense(512, activation='relu'))\n",
    "\n",
    "mobilenet_model.add(layers.Dense(classes, activation='softmax'))"
   ]
  },
  {
   "cell_type": "code",
   "execution_count": null,
   "metadata": {
    "colab": {
     "base_uri": "https://localhost:8080/",
     "height": 443
    },
    "id": "KqUALV_YO_Uo",
    "outputId": "c0fa2e1b-7c47-4bce-e85d-9945d65e6193"
   },
   "outputs": [
    {
     "name": "stdout",
     "output_type": "stream",
     "text": [
      "Epoch 1/8\n",
      "32897/32897 [==============================] - 1811s 55ms/step - loss: 0.7551 - accuracy: 0.7886 - val_loss: 0.6062 - val_accuracy: 0.8261\n",
      "Epoch 2/8\n",
      "32897/32897 [==============================] - 1981s 60ms/step - loss: 0.5175 - accuracy: 0.8521 - val_loss: 0.5097 - val_accuracy: 0.8573\n",
      "Epoch 3/8\n",
      "30434/32897 [==========================>...] - ETA: 1:56 - loss: 0.4382 - accuracy: 0.8749"
     ]
    }
   ],
   "source": [
    "mobilenet_model.compile(optimizer=optimizers.Adam(learning_rate=0.001),loss=tf.keras.losses.SparseCategoricalCrossentropy(from_logits=True),metrics=['accuracy'])\n",
    "\n",
    "epochs = 8\n",
    "try:\n",
    "  history = mobilenet_model.fit(train, validation_data=val, epochs=epochs)\n",
    "except Exception as e: print(e)\n",
    "mobilenet_model.save(mobilenet_model_path)"
   ]
  },
  {
   "cell_type": "code",
   "execution_count": null,
   "metadata": {
    "id": "MZl7Qx1GO_Up"
   },
   "outputs": [],
   "source": [
    "# Test\n",
    "\n",
    "plt.figure(figsize=(8, 8))\n",
    "\n",
    "epochs_range= range(epochs)\n",
    "\n",
    "plt.plot(epochs_range, history.history['accuracy'], label=\"Training Accuracy\")\n",
    "\n",
    "plt.plot(epochs_range, history.history['val_accuracy'], label=\"Validation Accuracy\")\n",
    "\n",
    "plt.axis(ymin=0.4,ymax=1)\n",
    "\n",
    "plt.grid()\n",
    "\n",
    "plt.title('Model Accuracy')\n",
    "\n",
    "plt.ylabel('Accuracy')\n",
    "\n",
    "plt.xlabel('Epochs')\n",
    "\n",
    "plt.legend(['train', 'validation'])"
   ]
  },
  {
   "cell_type": "markdown",
   "metadata": {
    "id": "NsRDtUFKO_Uq"
   },
   "source": [
    "## Ensemble"
   ]
  },
  {
   "cell_type": "code",
   "execution_count": null,
   "metadata": {
    "id": "UCJ77WBWO_Uz"
   },
   "outputs": [],
   "source": [
    "# Load trained models from file system\n",
    "models = [models.load_model(custom_model_path),\n",
    "          models.load_model(resnet_model_path),\n",
    "          models.load_model(vgg19_model_path),\n",
    "          models.load_model(mobilenet_model_path)]"
   ]
  },
  {
   "cell_type": "code",
   "execution_count": null,
   "metadata": {
    "id": "jFj-1cLGO_Uz"
   },
   "outputs": [],
   "source": [
    "# Create the weighted average ensemble model\n",
    "weights = [0.25, 0.25, 0.25, 0.25]\n",
    "input_shape = (128, 128, 3)\n",
    "inputs = layers.Input(shape = input_shape)\n",
    "outputs = [model(inputs) for model in models]\n",
    "weighted_average = tf.reshape((), (0, classes)) # An empty tensor\n",
    "\n",
    "for i in range(0, len(models)):\n",
    "    if i == 0:\n",
    "        weighted_average = weights[i] * outputs[i]\n",
    "    else:\n",
    "        weighted_average = weighted_average + weights[i] * outputs[i]\n",
    "    # weighted_average = weighted_average + weights[i] * outputs[i]\n",
    "    # weighted_average = tf.math.add(weighted_average, weights[i] * outputs[i])\n",
    "# weighted_average = weights[0]*outputs[0] + weights[1]*outputs[1] + weights[2]*outputs[2] + weights[3]*outputs[3]\n",
    "\n",
    "ensemble_model = tf.keras.Model(inputs = inputs, outputs = weighted_average, name = 'Ensemble_Model')"
   ]
  },
  {
   "cell_type": "code",
   "execution_count": null,
   "metadata": {
    "id": "Q6HPcTghO_U0"
   },
   "outputs": [],
   "source": [
    "ensemble_model.compile(optimizer = optimizers.Adam(learning_rate=0.001),loss='sparse_categorical_crossentropy',metrics=['accuracy'])\n",
    "ensemble_model.save(ensemble_model_path)"
   ]
  },
  {
   "cell_type": "code",
   "execution_count": null,
   "metadata": {
    "id": "G3lpOe7cO_U0"
   },
   "outputs": [],
   "source": [
    "ensemble_model.evaluate(test)"
   ]
  },
  {
   "cell_type": "markdown",
   "metadata": {
    "id": "byuqLwH3O_U1"
   },
   "source": [
    "## Testing"
   ]
  },
  {
   "cell_type": "code",
   "execution_count": null,
   "metadata": {
    "id": "3FCjdfb7O_U1"
   },
   "outputs": [],
   "source": [
    "# Testing the ensemble model\n",
    "\n",
    "iterator = test.__iter__()\n",
    "current = iterator.get_next()\n",
    "plt.imshow(current[0][0])"
   ]
  },
  {
   "cell_type": "code",
   "execution_count": null,
   "metadata": {
    "id": "Xhmv0ldHO_U2"
   },
   "outputs": [],
   "source": [
    "ensemble_model_prediction = ensemble_model.predict(current[0])\n",
    "print(ensemble_model_prediction[0])"
   ]
  },
  {
   "cell_type": "code",
   "execution_count": null,
   "metadata": {
    "id": "RXbJzpCzO_U3"
   },
   "outputs": [],
   "source": [
    "custom_model = tf.keras.models.load_model(custom_model_path)\n",
    "custom_model_prediction = custom_model.predict(current[0])\n",
    "print(custom_model_prediction[0])"
   ]
  },
  {
   "cell_type": "code",
   "execution_count": null,
   "metadata": {
    "id": "3IoKY83_O_U3"
   },
   "outputs": [],
   "source": [
    "resnet_model = tf.keras.models.load_model(resnet_model_path)\n",
    "resnet_model_prediction = resnet_model.predict(current[0])\n",
    "print(resnet_model_prediction[0])"
   ]
  },
  {
   "cell_type": "code",
   "execution_count": null,
   "metadata": {
    "id": "syz50-R1O_U4"
   },
   "outputs": [],
   "source": [
    "vgg19_model = tf.keras.models.load_model(vgg19_model_path)\n",
    "vgg19_model_prediction = vgg19_model.predict(current[0])\n",
    "print(vgg19_model_prediction[0])"
   ]
  },
  {
   "cell_type": "code",
   "execution_count": null,
   "metadata": {
    "id": "_Enj7NCXO_U5"
   },
   "outputs": [],
   "source": [
    "mobilenet_model = tf.keras.models.load_model(mobilenet_model_path)\n",
    "mobilenet_model_prediction = mobilenet_model.predict(current[0])\n",
    "print(mobilenet_model_prediction[0])"
   ]
  },
  {
   "cell_type": "code",
   "execution_count": null,
   "metadata": {
    "id": "quP5ht2AO_U5"
   },
   "outputs": [],
   "source": [
    "custom_model.evaluate(test)"
   ]
  },
  {
   "cell_type": "code",
   "execution_count": null,
   "metadata": {
    "id": "sQK7C8oqO_U6"
   },
   "outputs": [],
   "source": [
    "mobilenet_model.evaluate(test)\n",
    "resnet_model.evaluate(test)\n",
    "vgg19_model.evaluate(test)"
   ]
  }
 ],
 "metadata": {
  "colab": {
   "provenance": []
  },
  "kernelspec": {
   "display_name": "Python 3 (ipykernel)",
   "language": "python",
   "name": "python3"
  },
  "language_info": {
   "codemirror_mode": {
    "name": "ipython",
    "version": 3
   },
   "file_extension": ".py",
   "mimetype": "text/x-python",
   "name": "python",
   "nbconvert_exporter": "python",
   "pygments_lexer": "ipython3",
   "version": "3.11.3"
  },
  "toc-autonumbering": false,
  "toc-showmarkdowntxt": true,
  "toc-showtags": false
 },
 "nbformat": 4,
 "nbformat_minor": 4
}
